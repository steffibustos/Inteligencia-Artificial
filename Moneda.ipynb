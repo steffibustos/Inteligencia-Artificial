{
 "cells": [
  {
   "cell_type": "code",
   "execution_count": 42,
   "metadata": {
    "collapsed": false
   },
   "outputs": [
    {
     "name": "stdout",
     "output_type": "stream",
     "text": [
      "El numero de casos posibles es: 4\n",
      "El numero de casos favorables de que salga dos caras es: 1\n",
      "El numero de casos favorables de que salga dos secas es: 1\n",
      "El numero de casos favorables de que salga  A ∪ B es: 0\n",
      "La probabilidad de que A ∪ B es: 0.0\n",
      "A y B son mutuamente excluyentes ya que ambos no pueden ser verdaderos al mismo tiempo. \n"
     ]
    }
   ],
   "source": [
    "import numpy as np\n",
    "import matplotlib.pyplot as plt\n",
    "\n",
    "# La probabilidad que un evento suceda es igual a n° casos favorables / n° casos posibles\n",
    "\n",
    "#las caras se representan con a\n",
    "#Las secas se representan con b\n",
    "#A es el evento de dos caras o sea dos a\n",
    "#B es el evento de dos secas o sea dos b\n",
    "\n",
    "A= [\"aa\"]\n",
    "B= [\"bb\"]\n",
    "moneda1=[\"a\",\"b\"]\n",
    "moneda2=[\"a\",\"b\"]\n",
    "combinacion=0\n",
    "nuevalista=[]\n",
    "union=[]\n",
    "#Numero de casos posibles de suma entre dos dados\n",
    "for i in range(len(moneda1)):\n",
    "    for j in range(len(moneda2)):\n",
    "        nuevalista.append(moneda1[i]+moneda2[j])\n",
    "        combinacion=combinacion+1\n",
    "print (\"El numero de casos posibles es:\",combinacion)\n",
    "\n",
    "#Ahora calculamos los casos favorables para que salgan dos caras\n",
    "veces = nuevalista.count(\"aa\")\n",
    "#Ahora calculamos los casos favorables para que salgan dos secas\n",
    "veces2= nuevalista.count(\"bb\")\n",
    "print(\"El numero de casos favorables de que salga dos caras es:\", veces)\n",
    "print(\"El numero de casos favorables de que salga dos secas es:\", veces2)\n",
    "\n",
    "#Calcule la probabilidad de A ∪ B.\n",
    "#Primero realizo la union\n",
    "for l in range(len(A)):\n",
    "    union.append(A[l]+B[l])\n",
    "    \n",
    "#Casos favorables que salgan dos caras y dos secas al mismo tiempo\n",
    "casosf=nuevalista.count(union)\n",
    "print(\"El numero de casos favorables de que salga  A ∪ B es:\", casosf)\n",
    "\n",
    "#Probabilidad de que ocurra\n",
    "prob= (casosf)/combinacion\n",
    "print ( \"La probabilidad de que A ∪ B es:\", prob)\n",
    "\n",
    "if prob == 0:\n",
    "    print(\"A y B son mutuamente excluyentes ya que ambos no pueden ser verdaderos al mismo tiempo. \")\n",
    "\n",
    "#Los eventos complementarios son dos resultados de un evento, siendo éstos los dos únicos resultados posibles.\n",
    "#Es como lanzar una moneda y que salga cara o cruz. Claro, no hay más opciones, así que estos eventos son complementarios.\n",
    "#Todos los eventos complementarios son mutuamente excluyentes pero no viceversa.\n"
   ]
  },
  {
   "cell_type": "code",
   "execution_count": null,
   "metadata": {
    "collapsed": true
   },
   "outputs": [],
   "source": []
  }
 ],
 "metadata": {
  "kernelspec": {
   "display_name": "Python 3",
   "language": "python",
   "name": "python3"
  },
  "language_info": {
   "codemirror_mode": {
    "name": "ipython",
    "version": 3
   },
   "file_extension": ".py",
   "mimetype": "text/x-python",
   "name": "python",
   "nbconvert_exporter": "python",
   "pygments_lexer": "ipython3",
   "version": "3.6.0"
  }
 },
 "nbformat": 4,
 "nbformat_minor": 2
}
