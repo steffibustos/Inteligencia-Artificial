{
 "cells": [
  {
   "cell_type": "markdown",
   "metadata": {},
   "source": [
    "# Introducción al Aprendizaje Supervisado - Regresión (Parte II)\n",
    "* Regresión Polinomial\n",
    "* Cross Validation\n",
    "* Bias-Variance Tradeoff\n",
    "\n",
    "## 5to año - Ingeniería en Sistemas de Información\n",
    "\n",
    "### Facultad Regional Villa María\n",
    "## Steffi Bustos"
   ]
  },
  {
   "cell_type": "markdown",
   "metadata": {},
   "source": [
    "**Enunciado del Ejercicio**"
   ]
  },
  {
   "cell_type": "markdown",
   "metadata": {},
   "source": [
    "Para los siguientes ejercicios vamos a usar el Boston dataset, el cual consiste en un dataset que, en base a distintos predictores, devuelve el precio de una casa en los suburbios de Boston. Tiene las siguientes características:\n",
    "\n",
    "    :Number of Instances: 506 \n",
    "\n",
    "    :Number of Attributes: 13 numeric/categorical predictive\n",
    "    \n",
    "    :Median Value (attribute 14) is usually the target\n",
    "\n",
    "    :Attribute Information (in order):\n",
    "    \n",
    "        Features:\n",
    "        - CRIM     per capita crime rate by town\n",
    "        - ZN       proportion of residential land zoned for lots over 25,000 sq.ft.\n",
    "        - INDUS    proportion of non-retail business acres per town\n",
    "        - CHAS     Charles River dummy variable (= 1 if tract bounds river; 0 otherwise)\n",
    "        - NOX      nitric oxides concentration (parts per 10 million)\n",
    "        - RM       average number of rooms per dwelling\n",
    "        - AGE      proportion of owner-occupied units built prior to 1940\n",
    "        - DIS      weighted distances to five Boston employment centres\n",
    "        - RAD      index of accessibility to radial highways\n",
    "        - TAX      full-value property-tax rate per 10,000\n",
    "        - PTRATIO  pupil-teacher ratio by town\n",
    "        - B        1000(Bk - 0.63)^2 where Bk is the proportion of blacks by town\n",
    "        - LSTAT    % lower status of the population\n",
    "        \n",
    "        Target:\n",
    "        - MEDV     Median value of owner-occupied homes in 1000's\n",
    "\n",
    "Empleando algún método de separación en conjuntos de entrenamiento y test, resolver los siguientes ejercicios (extendiendo el código inicial que se muestra en la celda siguiente):\n",
    "\n",
    "1. Declarar una variable random_state igual al número de alumno en la hoja de cálculo \"Entregas TPs\" en el Google Drive de la materia.\n",
    "\n",
    "2. Elegir 1 feature (entre NOX (4), RM (5), AGE (6) y DIS (7)) y entrenar un modelo de regresión polinomial tomando en cuenta cómo dicho feature predice el valor de la casa. Para efectuar la separación entre subconjuntos de entrenamiento y test, usar el random_state correspondiente.\n",
    "\n",
    "3. En base a dicho modelo, mostrar un gráfico donde se aprecie la distancia entre los valores de $\\hat{y}$ y los valores de $y$ para cada feature (estilo al gráfico de regresión lineal o el gráfico de regresión polinomial utilizado como ejemplo en este notebook).\n",
    "\n",
    "4. Entrenar con distintos grados del polinomio el modelo con el feature elegido. Graficar el bias-variance tradeoff para el error cuadrático medio en base a los distintos grados del polinomio, donde se muestren las curvas de error cuadrático medio de entrenamiento y error cuadrático medio de test. Ayuda: para graficarlo, utilizar el grado del polinomio en el eje de las $x$ y el error cuadrático medio en el eje de las $y$.\n",
    "\n",
    "5. Especificar cuál es el grado del polinomio en el cual se minimiza el error de test.\n",
    "\n",
    "6. Completar el código de KFolds para el modelo de regresión polinomial de grado 5, entrenarlo con el feature elegido e imprimir el error cuadrático medio, promediado entre los 10 folds. Utilizar Shuffle=true y el random_state correspondiente.\n",
    "\n",
    "Fecha de entrega: **03/05/2017**.\n",
    "\n",
    "Nota: la resolución de los ejercicios es **individual**; en el caso de que dos ejercicios enviados contengan un código igual o muy similar (sin considerar los comentarios), se los considerará a ambos como desaprobados. La reutilización del código del notebook está permitida (por ejemplo para confeccionar gráficos)."
   ]
  },
  {
   "cell_type": "markdown",
   "metadata": {},
   "source": [
    "**Resolución**"
   ]
  },
  {
   "cell_type": "code",
   "execution_count": 105,
   "metadata": {
    "collapsed": false
   },
   "outputs": [
    {
     "name": "stdout",
     "output_type": "stream",
     "text": [
      "[  65.2   78.9   61.1   45.8   54.2   58.7   66.6   96.1  100.    85.9\n",
      "   94.3   82.9   39.    61.8   84.5   56.5   29.3   81.7   36.6   69.5\n",
      "   98.1   89.2   91.7  100.    94.1   85.7   90.3   88.8   94.4   87.3]\n"
     ]
    }
   ],
   "source": [
    "import numpy as np\n",
    "import matplotlib.pyplot as plt\n",
    "from sklearn.preprocessing import PolynomialFeatures\n",
    "from sklearn.datasets import load_boston\n",
    "from sklearn.model_selection import train_test_split\n",
    "from sklearn.linear_model import LinearRegression\n",
    "from sklearn.metrics import mean_squared_error\n",
    "\n",
    "\n",
    "% matplotlib inline\n",
    "#Declaro la variable random con mi número de alumno en la hoja de cálculo (4) Punto1\n",
    "rng = np.random.RandomState(4)\n",
    "\n",
    "#Punto2\n",
    "#Elijo feature  AGE (6) \n",
    "boston = load_boston()\n",
    "X = boston.data\n",
    "y = boston.target\n",
    "\n",
    "X_feature = X[:,6]\n",
    "print(X_feature[0:30])\n",
    "X = X_feature[:, np.newaxis]\n"
   ]
  },
  {
   "cell_type": "code",
   "execution_count": 106,
   "metadata": {
    "collapsed": false
   },
   "outputs": [
    {
     "data": {
      "image/png": "[encoded data removed]",
      "text/plain": [
       "<matplotlib.figure.Figure at 0x199b8692da0>"
      ]
     },
     "metadata": {},
     "output_type": "display_data"
    }
   ],
   "source": [
    "#Punto 3 para Datos entrenamiento\n",
    "#Entreno el modelo de regresion polinomial\n",
    "#Divido el conjunto\n",
    "X_train, X_test, y_train, y_test = train_test_split(X, y, test_size=0.3, random_state=4)\n",
    "poly = PolynomialFeatures(degree=4)\n",
    "X_train_poly = poly.fit_transform(X_train, y_train)\n",
    "poly_regressor = LinearRegression()\n",
    "poly_regressor.fit(X_train_poly, y_train)\n",
    "X_test_poly = poly.transform(X_test)\n",
    "\n",
    "#Entreno el modelo en regresion lineal\n",
    "X_trainn, X_testt, y_trainn, y_testt = train_test_split(X, y, test_size=0.3, random_state=4)\n",
    "regressor = LinearRegression()\n",
    "regressor.fit(X_trainn, y_trainn)\n",
    "min_pt = X.min() * regressor.coef_[0] + regressor.intercept_\n",
    "max_pt = X.max() * regressor.coef_[0] + regressor.intercept_\n",
    "y_pred_train = regressor.predict(X_trainn)\n",
    "\n",
    "#Grafico datos de entrenamiento para la regresion \n",
    "plt.plot(X_train, y_train, 'o' , color= \"red\", label= \"Datos entrenamiento \")\n",
    "plt.plot(X_train, poly_regressor.predict(X_train_poly), 'o', label=\"predicción de entrenamiento regresion polinomial\", color=\"black\")\n",
    "plt.plot(X_trainn, y_pred_train, 'o', label=\"predicción de entrenamiento regresion lineal\")\n",
    "plt.legend(loc='best')\n",
    "plt.show()\n",
    "    "
   ]
  },
  {
   "cell_type": "code",
   "execution_count": 107,
   "metadata": {
    "collapsed": false
   },
   "outputs": [
    {
     "data": {
      "image/png": "[encoded data removed]",
      "text/plain": [
       "<matplotlib.figure.Figure at 0x199b8692978>"
      ]
     },
     "metadata": {},
     "output_type": "display_data"
    }
   ],
   "source": [
    "#Punto 3 Datos test\n",
    "\n",
    "#Entreno el modelo de regresion polinomial\n",
    "#Divido el conjunto\n",
    "\n",
    "X_train, X_test, y_train, y_test = train_test_split(X, y, test_size=0.3, random_state=4)\n",
    "poly = PolynomialFeatures(degree=4)\n",
    "X_train_poly = poly.fit_transform(X_train, y_train)\n",
    "poly_regressor = LinearRegression()\n",
    "poly_regressor.fit(X_train_poly, y_train)\n",
    "X_test_poly = poly.transform(X_test)\n",
    "\n",
    "\n",
    "#Entreno el modelo en regresion lineal\n",
    "X_trainn, X_testt, y_trainn, y_testt = train_test_split(X, y, test_size=0.3, random_state=4)\n",
    "y_pred_test = regressor.predict(X_testt)\n",
    "\n",
    "\n",
    "#Grafico para test\n",
    "\n",
    "plt.plot(X_test, y_test, 'o', label=\"datos de test\", color=\"green\")\n",
    "plt.plot(X_testt, y_pred_test, 'o', label=\"predicción de test regresion lineal\", color=\"purple\")\n",
    "plt.plot(X_test, poly_regressor.predict(X_test_poly), 'o',label=\"predicción de test regresion polinomial;\", color=\"black\")\n",
    "plt.legend(loc='best')\n",
    "plt.show()\n",
    "\n"
   ]
  },
  {
   "cell_type": "code",
   "execution_count": 114,
   "metadata": {
    "collapsed": false
   },
   "outputs": [
    {
     "name": "stdout",
     "output_type": "stream",
     "text": [
      "El grado del polinomio es 1\n",
      "MSE entrenamiento:  75.2708296626\n",
      "El grado del polinomio es 2\n",
      "MSE entrenamiento:  64.8778940816\n",
      "El grado del polinomio es 3\n",
      "MSE entrenamiento:  62.8562390466\n",
      "El grado del polinomio es 4\n",
      "MSE entrenamiento:  62.582926127\n",
      "El grado del polinomio es 5\n",
      "MSE entrenamiento:  62.5457362324\n",
      "El grado del polinomio es 6\n",
      "MSE entrenamiento:  62.464815466\n",
      "El grado del polinomio es 7\n",
      "MSE entrenamiento:  62.3806981772\n"
     ]
    }
   ],
   "source": [
    "#Punto 4, datos entrenamiento\n",
    "\n",
    "from sklearn.model_selection import train_test_split\n",
    "from sklearn.linear_model import LinearRegression\n",
    "from sklearn.metrics import mean_squared_error\n",
    "\n",
    "#Dividir los datos aleatoriamente en conjuntos de entrenamiento y test.\n",
    "X_train, X_test, y_train, y_test = train_test_split(X, y, test_size=0.3, random_state=4)\n",
    "\n",
    "from sklearn.preprocessing import PolynomialFeatures\n",
    "\n",
    "#Utilizo un ciclo while para que me grafique los polinomios de grado 1 al 7\n",
    "error1=[]\n",
    "error=0\n",
    "i = 0\n",
    "while i <= 6:\n",
    "    #predicción con un polinomio de grado i\n",
    "    poly = PolynomialFeatures(i)\n",
    "    i += 1\n",
    "    #Los datos de entrenamiento se adaptan al modelo y se transforman a la forma polinómica\n",
    "    X_train_poly = poly.fit_transform(X_train, y_train)\n",
    "    \n",
    "    # Se utiliza un nuevo regresor lineal, el cual efectúa la regresión polinómica.\n",
    "    poly_regressor = LinearRegression()\n",
    "    poly_regressor.fit(X_train_poly, y_train)\n",
    "    \n",
    "    #Se establece limites fijos para el grafico\n",
    "    #axes = plt.subplot(111)\n",
    "    #axes.set_xlim(X.min(), X.max())\n",
    "    #axes.set_ylim(y.min(), y.max())\n",
    "    \n",
    "    #Se grafica los datos de Entrenamiento\n",
    "    error= mean_squared_error(y_train, poly_regressor.predict(X_train_poly))\n",
    "    error1.append(error)\n",
    "    \n",
    "    print('El grado del polinomio es',i)\n",
    "    print('MSE entrenamiento: ',mean_squared_error(y_train, poly_regressor.predict(X_train_poly)))\n",
    "\n",
    "    #print ('El grado del polinomio es:' , i)\n",
    "    #plt.plot(i,error,'o')\n",
    "    #plt.show()\n",
    "    \n",
    "\n",
    "    "
   ]
  },
  {
   "cell_type": "code",
   "execution_count": 119,
   "metadata": {
    "collapsed": false
   },
   "outputs": [
    {
     "data": {
      "image/png": "[encoded data removed]",
      "text/plain": [
       "<matplotlib.figure.Figure at 0x199b7660780>"
      ]
     },
     "metadata": {},
     "output_type": "display_data"
    }
   ],
   "source": [
    "#Grafico los errores de entrenamiento\n",
    "grado=[1,2,3,4,5,6,7]\n",
    " \n",
    "plt.plot(grado,error1,'-')\n",
    "plt.xlabel(r\"$Grado$\", fontsize = 24, color = (1,0,0))\n",
    "plt.ylabel(r\"$Error$\", fontsize = 24, color = 'blue')\n",
    "\n",
    "plt.show()\n",
    "    "
   ]
  },
  {
   "cell_type": "code",
   "execution_count": 116,
   "metadata": {
    "collapsed": false
   },
   "outputs": [
    {
     "name": "stdout",
     "output_type": "stream",
     "text": [
      "El grado del polinomio es: 1\n",
      "MSE test:  106.287392907\n",
      "El grado del polinomio es: 2\n",
      "MSE test:  90.6449332747\n",
      "El grado del polinomio es: 3\n",
      "MSE test:  92.4974922772\n",
      "El grado del polinomio es: 4\n",
      "MSE test:  92.6630886656\n",
      "El grado del polinomio es: 5\n",
      "MSE test:  92.2906392562\n",
      "El grado del polinomio es: 6\n",
      "MSE test:  92.4228273922\n",
      "El grado del polinomio es: 7\n",
      "MSE test:  93.0040795128\n"
     ]
    }
   ],
   "source": [
    "#Punto 4, datos test\n",
    "\n",
    "from sklearn.preprocessing import PolynomialFeatures\n",
    "errort=0\n",
    "error2=[]\n",
    "i = 0\n",
    "while i <=6:\n",
    "    #predicción con un polinomio de grado i\n",
    "    poly = PolynomialFeatures(i)\n",
    "    i += 1\n",
    "    \n",
    "    #Los datos de entrenamiento se adaptan al modelo y se transforman a la forma polinómica\n",
    "    X_train_poly = poly.fit_transform(X_train, y_train)\n",
    "    \n",
    "    # Se utiliza un nuevo regresor lineal, el cual efectúa la regresión polinómica\n",
    "    poly_regressor = LinearRegression()\n",
    "    poly_regressor.fit(X_train_poly, y_train)\n",
    "\n",
    "    #Los datos de test se adaptan al modelo y se transforman en forma polinomica\n",
    "    X_test_poly = poly.transform(X_test)\n",
    "    errort= mean_squared_error(y_test, poly_regressor.predict(X_test_poly))\n",
    "    error2.append(errort)\n",
    "    \n",
    "    print ('El grado del polinomio es:' , i)\n",
    "    print('MSE test: ',mean_squared_error(y_test, poly_regressor.predict(X_test_poly)))"
   ]
  },
  {
   "cell_type": "code",
   "execution_count": 126,
   "metadata": {
    "collapsed": false
   },
   "outputs": [
    {
     "data": {
      "image/png": "[encoded data removed]",
      "text/plain": [
       "<matplotlib.figure.Figure at 0x199b750ada0>"
      ]
     },
     "metadata": {},
     "output_type": "display_data"
    }
   ],
   "source": [
    "#Grafico los errores de test\n",
    "grado1=[1,2,3,4,5,6,7]\n",
    " \n",
    "plt.plot(grado1,error2,'-')\n",
    "plt.xlabel(r\"$Grado$\", fontsize = 24, color ='black')\n",
    "plt.ylabel(r\"$Error$\", fontsize = 24, color = 'black')\n",
    "plt.show()"
   ]
  },
  {
   "cell_type": "markdown",
   "metadata": {},
   "source": [
    "## Punto 5 \n",
    "El grado del polinomio es: 2\n",
    "MSE test:  90.6449332747\n"
   ]
  },
  {
   "cell_type": "code",
   "execution_count": 112,
   "metadata": {
    "collapsed": false
   },
   "outputs": [
    {
     "name": "stdout",
     "output_type": "stream",
     "text": [
      "MSE entrenamiento promedio: 70.8872140216\n",
      "MSE test promedio:  72.3955795419\n"
     ]
    }
   ],
   "source": [
    "from sklearn.model_selection import KFold\n",
    "\n",
    "#El random_state correspondiente es 4\n",
    "kf = KFold(n_splits=10, shuffle=True,random_state=4)\n",
    "\n",
    "test_error_poly = []\n",
    "ErrorTotal1=0\n",
    "ErrorTotal=0\n",
    "for train_index, test_index in kf.split(X):\n",
    "    X_train, X_test = X[train_index], X[test_index]\n",
    "    y_train, y_test = y[train_index], y[test_index]\n",
    "    #Polinomio de grado 5\n",
    "    poly = PolynomialFeatures(5)\n",
    "    #Los datos de entrenamiento se adaptan al modelo y se transforman a la forma polinómica\n",
    "    X_train_poly = poly.fit_transform(X_train, y_train)\n",
    "    \n",
    "    # Se utiliza un nuevo regresor lineal, el cual efectúa la regresión polinómica\n",
    "    poly_regressor = LinearRegression()\n",
    "    poly_regressor.fit(X_train_poly, y_train)\n",
    "\n",
    "    #Los datos de test se adaptan al modelo y se transforman en forma polinomica\n",
    "    X_test_poly = poly.transform(X_test)\n",
    "\n",
    "    error1= mean_squared_error(y_train, poly_regressor.predict(X_train_poly))\n",
    "    error2= (mean_squared_error(y_test, poly_regressor.predict(X_test_poly)))\n",
    "\n",
    "    ErrorTotal= ErrorTotal + error2\n",
    "    ErrorTotal1= ErrorTotal1 + error1\n",
    "    Promedio= ErrorTotal/10\n",
    "    Promedio1= ErrorTotal1/10\n",
    "    \n",
    "print('MSE entrenamiento promedio:', Promedio1)    \n",
    "print('MSE test promedio: ', Promedio)\n",
    "    "
   ]
  },
  {
   "cell_type": "code",
   "execution_count": null,
   "metadata": {
    "collapsed": true
   },
   "outputs": [],
   "source": []
  }
 ],
 "metadata": {
  "anaconda-cloud": {},
  "kernelspec": {
   "display_name": "Python 3",
   "language": "python",
   "name": "python3"
  },
  "language_info": {
   "codemirror_mode": {
    "name": "ipython",
    "version": 3
   },
   "file_extension": ".py",
   "mimetype": "text/x-python",
   "name": "python",
   "nbconvert_exporter": "python",
   "pygments_lexer": "ipython3",
   "version": "3.6.0"
  }
 },
 "nbformat": 4,
 "nbformat_minor": 2
}
