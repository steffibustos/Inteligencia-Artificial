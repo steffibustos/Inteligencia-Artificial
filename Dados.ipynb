{
 "cells": [
  {
   "cell_type": "code",
   "execution_count": 2,
   "metadata": {
    "collapsed": false
   },
   "outputs": [
    {
     "name": "stdout",
     "output_type": "stream",
     "text": [
      "El numero de casos posibles es: 36\n",
      "El numero de casos favorables es: 8\n",
      "La probabilidad de que la suma de 7 u 11 es: 0.2222222222222222\n"
     ]
    }
   ],
   "source": [
    "import numpy as np\n",
    "import matplotlib.pyplot as plt\n",
    "\n",
    "# La probabilidad que un evento suceda es igual a n° casos favorables / n° casos posibles\n",
    "\n",
    "\n",
    "dado1= [1,2,3,4,5,6]\n",
    "dado2= [1,2,3,4,5,6]\n",
    "\n",
    "combinacion=0\n",
    "nuevalista=[]\n",
    "#Numero de casos posibles de suma entre dos dados\n",
    "for i in range(len(dado1)):\n",
    "    for j in range(len(dado2)):\n",
    "        nuevalista.append(dado1[i]+dado2[j])\n",
    "        combinacion=combinacion+1\n",
    "print (\"El numero de casos posibles es:\",combinacion)\n",
    "\n",
    "#Ahora calculamos los casos favorables para que la suma de igual a 7\n",
    "veces = nuevalista.count(7)\n",
    "#Ahora calculamos los casos favorables para que la suma de igual a 11\n",
    "veces2= nuevalista.count(11)\n",
    "# Ahora calculamos la probabilidad de que la suma de 7 u 11\n",
    "#sumamos los casos favorables y lo dividimos por los posibles\n",
    "print(\"El numero de casos favorables es:\", veces+veces2)\n",
    "probabilidad= (veces+veces2)/combinacion\n",
    "print ( \"La probabilidad de que la suma de 7 u 11 es:\", probabilidad)\n",
    "\n",
    "\n",
    "\n",
    "\n"
   ]
  },
  {
   "cell_type": "code",
   "execution_count": null,
   "metadata": {
    "collapsed": true
   },
   "outputs": [],
   "source": []
  }
 ],
 "metadata": {
  "kernelspec": {
   "display_name": "Python 3",
   "language": "python",
   "name": "python3"
  },
  "language_info": {
   "codemirror_mode": {
    "name": "ipython",
    "version": 3
   },
   "file_extension": ".py",
   "mimetype": "text/x-python",
   "name": "python",
   "nbconvert_exporter": "python",
   "pygments_lexer": "ipython3",
   "version": "3.6.0"
  }
 },
 "nbformat": 4,
 "nbformat_minor": 2
}
