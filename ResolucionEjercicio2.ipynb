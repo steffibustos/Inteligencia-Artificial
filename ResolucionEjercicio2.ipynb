{
 "cells": [
  {
   "cell_type": "markdown",
   "metadata": {
    "deletable": true,
    "editable": true
   },
   "source": [
    "# Resolucion Ejercicio 2\n",
    "\n",
    "## 5to año - Ingeniería en Sistemas de Información\n",
    "\n",
    "### Facultad Regional Villa María"
   ]
  },
  {
   "cell_type": "markdown",
   "metadata": {
    "deletable": true,
    "editable": true
   },
   "source": [
    "### Enunciado\n",
    "\n",
    "Realizar una práctica básica con numpy: dadas las matrices\n",
    "\n",
    "A = \\begin{bmatrix}\n",
    "        1 & 2 & 3 \\\\\n",
    "        4 & 5 & 6\n",
    "    \\end{bmatrix}\n",
    "\n",
    "B = \\begin{bmatrix}\n",
    "        -1 & 0 \\\\\n",
    "        1 & 1 \\\\\n",
    "        0 & 1\n",
    "    \\end{bmatrix}\n",
    "\n",
    "* Construir las matrices en numpy\n",
    "* Hacer con dichas matrices $A-B^T$ e imprimir su resultado.\n",
    "* Hacer con dichas matrices $(A.B)^{-1}$ e imprimir su resultado.\n",
    "\n",
    "Recomendación: Usar un notebook de jupyter para hacer los ejercicios.\n",
    "\n",
    "\n"
   ]
  },
  {
   "cell_type": "markdown",
   "metadata": {
    "deletable": true,
    "editable": true
   },
   "source": [
    "### Resolución\n"
   ]
  },
  {
   "cell_type": "code",
   "execution_count": 1,
   "metadata": {
    "collapsed": false,
    "deletable": true,
    "editable": true
   },
   "outputs": [
    {
     "name": "stdout",
     "output_type": "stream",
     "text": [
      "[[1 2 3]\n",
      " [4 5 6]]\n"
     ]
    }
   ],
   "source": [
    "#Creacion de la matriz A\n",
    "import numpy as np \n",
    "A= np.array([[1,2,3],[4,5,6]])\n",
    "print(A)"
   ]
  },
  {
   "cell_type": "code",
   "execution_count": 2,
   "metadata": {
    "collapsed": false,
    "deletable": true,
    "editable": true
   },
   "outputs": [
    {
     "name": "stdout",
     "output_type": "stream",
     "text": [
      "[[-1  0]\n",
      " [ 1  1]\n",
      " [ 0  1]]\n"
     ]
    }
   ],
   "source": [
    "#Creacion de la matriz B\n",
    "B= np.array([[-1,0],[1,1],[0,1]])\n",
    "print(B)"
   ]
  },
  {
   "cell_type": "code",
   "execution_count": 3,
   "metadata": {
    "collapsed": false,
    "deletable": true,
    "editable": true
   },
   "outputs": [
    {
     "data": {
      "text/plain": [
       "array([[-1,  1,  0],\n",
       "       [ 0,  1,  1]])"
      ]
     },
     "execution_count": 3,
     "metadata": {},
     "output_type": "execute_result"
    }
   ],
   "source": [
    "#Transpuesta de la matriz B\n",
    "C=np.transpose(B)\n",
    "C"
   ]
  },
  {
   "cell_type": "code",
   "execution_count": 4,
   "metadata": {
    "collapsed": false,
    "deletable": true,
    "editable": true
   },
   "outputs": [
    {
     "name": "stdout",
     "output_type": "stream",
     "text": [
      "[[2 1 3]\n",
      " [4 4 5]]\n"
     ]
    }
   ],
   "source": [
    "#Resta de la matriz A con B transpuesta\n",
    "D= A-C\n",
    "print(D)"
   ]
  },
  {
   "cell_type": "code",
   "execution_count": 5,
   "metadata": {
    "collapsed": false,
    "deletable": true,
    "editable": true
   },
   "outputs": [
    {
     "data": {
      "text/plain": [
       "array([[ 1,  5],\n",
       "       [ 1, 11]])"
      ]
     },
     "execution_count": 5,
     "metadata": {},
     "output_type": "execute_result"
    }
   ],
   "source": [
    "#Multiplicacion de A y B\n",
    "E=A.dot(B)\n",
    "E"
   ]
  },
  {
   "cell_type": "code",
   "execution_count": 6,
   "metadata": {
    "collapsed": false,
    "deletable": true,
    "editable": true
   },
   "outputs": [
    {
     "name": "stdout",
     "output_type": "stream",
     "text": [
      "[[ 1.83333333 -0.83333333]\n",
      " [-0.16666667  0.16666667]]\n"
     ]
    }
   ],
   "source": [
    "#Inversa de la multiplicacion de A y B\n",
    "F= np.linalg.inv(E)\n",
    "print(F)"
   ]
  }
 ],
 "metadata": {
  "anaconda-cloud": {},
  "kernelspec": {
   "display_name": "Python 3",
   "language": "python",
   "name": "python3"
  },
  "language_info": {
   "codemirror_mode": {
    "name": "ipython",
    "version": 3
   },
   "file_extension": ".py",
   "mimetype": "text/x-python",
   "name": "python",
   "nbconvert_exporter": "python",
   "pygments_lexer": "ipython3",
   "version": "3.6.0"
  }
 },
 "nbformat": 4,
 "nbformat_minor": 0
}
